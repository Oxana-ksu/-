{
  "cells": [
    {
      "cell_type": "markdown",
      "metadata": {
        "id": "w1ge2LrRHtcU"
      },
      "source": [
        "# Предсказание стоимости автомобиля по VIN-коду\n",
        "\n",
        "---\n",
        "\n"
      ]
    },
    {
      "cell_type": "markdown",
      "metadata": {
        "id": "QaQjwLm3I_GY"
      },
      "source": [
        "## Полезные ссылки про VIN-код:\n",
        "\n",
        "* https://en.wikibooks.org/wiki/Vehicle_Identification_Numbers_(VIN_codes)#Table_of_Contents\n",
        "* https://en.wikibooks.org/wiki/Vehicle_Identification_Numbers_(VIN_codes)/World_Manufacturer_Identifier_(WMI)\n",
        "* https://en.wikibooks.org/wiki/Vehicle_Identification_Numbers_(VIN_codes)/Printable_version#Model#\n",
        "* https://en.wikipedia.org/wiki/List_of_Ford_factories\n",
        "\n",
        "## Из чего состоит VIN-код\n",
        "\n",
        "VIN-код (Vehicle Identification Number) — это уникальный идентификационный номер, который присваивается каждому автомобилю при его производстве и используется для идентификации автомобилей при покупке, регистрации, страховании, а также при проведении технического обслуживания и ремонта.\n",
        "\n",
        "***Он состоит из 17 символов:***\n",
        "\n",
        "* **1-3 производитель**\n",
        "* **4 ремни безопасности для пассажирских, тормоза и грузоподъемность у траков**\n",
        "* **5-7 модель**\n",
        "* **8 двигатель**\n",
        "* **9 контрольный знак**\n",
        "* **10 год**\n",
        "* **11 завод-производитель**\n",
        "* **12-17 серийный номер**\n"
      ]
    },
    {
      "cell_type": "markdown",
      "metadata": {
        "id": "zN1mo2LAOTxU"
      },
      "source": [
        "Цель данной работы, используя \"сырые\" данные, построить модель, которая по VIN-коду сможет предсказать стоимость машины."
      ]
    },
    {
      "cell_type": "code",
      "source": [
        "!pip install category_encoders"
      ],
      "metadata": {
        "colab": {
          "base_uri": "https://localhost:8080/"
        },
        "id": "xTX_DDOA6MOn",
        "outputId": "55625b3c-2426-4c69-fb2e-c327084d6627"
      },
      "execution_count": 1,
      "outputs": [
        {
          "output_type": "stream",
          "name": "stdout",
          "text": [
            "Requirement already satisfied: category_encoders in /usr/local/lib/python3.10/dist-packages (2.6.3)\n",
            "Requirement already satisfied: numpy>=1.14.0 in /usr/local/lib/python3.10/dist-packages (from category_encoders) (1.25.2)\n",
            "Requirement already satisfied: scikit-learn>=0.20.0 in /usr/local/lib/python3.10/dist-packages (from category_encoders) (1.2.2)\n",
            "Requirement already satisfied: scipy>=1.0.0 in /usr/local/lib/python3.10/dist-packages (from category_encoders) (1.11.4)\n",
            "Requirement already satisfied: statsmodels>=0.9.0 in /usr/local/lib/python3.10/dist-packages (from category_encoders) (0.14.2)\n",
            "Requirement already satisfied: pandas>=1.0.5 in /usr/local/lib/python3.10/dist-packages (from category_encoders) (2.0.3)\n",
            "Requirement already satisfied: patsy>=0.5.1 in /usr/local/lib/python3.10/dist-packages (from category_encoders) (0.5.6)\n",
            "Requirement already satisfied: python-dateutil>=2.8.2 in /usr/local/lib/python3.10/dist-packages (from pandas>=1.0.5->category_encoders) (2.8.2)\n",
            "Requirement already satisfied: pytz>=2020.1 in /usr/local/lib/python3.10/dist-packages (from pandas>=1.0.5->category_encoders) (2023.4)\n",
            "Requirement already satisfied: tzdata>=2022.1 in /usr/local/lib/python3.10/dist-packages (from pandas>=1.0.5->category_encoders) (2024.1)\n",
            "Requirement already satisfied: six in /usr/local/lib/python3.10/dist-packages (from patsy>=0.5.1->category_encoders) (1.16.0)\n",
            "Requirement already satisfied: joblib>=1.1.1 in /usr/local/lib/python3.10/dist-packages (from scikit-learn>=0.20.0->category_encoders) (1.4.0)\n",
            "Requirement already satisfied: threadpoolctl>=2.0.0 in /usr/local/lib/python3.10/dist-packages (from scikit-learn>=0.20.0->category_encoders) (3.4.0)\n",
            "Requirement already satisfied: packaging>=21.3 in /usr/local/lib/python3.10/dist-packages (from statsmodels>=0.9.0->category_encoders) (24.0)\n"
          ]
        }
      ]
    },
    {
      "cell_type": "code",
      "execution_count": 2,
      "metadata": {
        "id": "qe3d58dgro5y"
      },
      "outputs": [],
      "source": [
        "# Импорт библиотек\n",
        "\n",
        "import category_encoders as ce\n",
        "import matplotlib.pyplot as plt\n",
        "import numpy as np\n",
        "import pandas as pd\n",
        "import re\n",
        "import seaborn as sns\n",
        "import warnings\n",
        "\n",
        "from sklearn.dummy import DummyRegressor\n",
        "from sklearn.ensemble import RandomForestRegressor\n",
        "from sklearn.linear_model import LinearRegression\n",
        "\n",
        "from sklearn.model_selection import (GridSearchCV ,cross_val_score ,train_test_split)\n",
        "from sklearn.metrics import mean_squared_error\n",
        "from sklearn.preprocessing import StandardScaler\n",
        "from sklearn.pipeline import make_pipeline\n",
        "\n",
        "warnings.filterwarnings('ignore')"
      ]
    },
    {
      "cell_type": "markdown",
      "metadata": {
        "id": "_7ZC3W5RPcl5"
      },
      "source": [
        "## Работа с регулярными выражениями"
      ]
    },
    {
      "cell_type": "code",
      "execution_count": 3,
      "metadata": {
        "colab": {
          "base_uri": "https://localhost:8080/",
          "height": 35
        },
        "id": "NiiUCvbTf_mG",
        "outputId": "0cec8839-045f-42b4-922d-3df7095b4602"
      },
      "outputs": [
        {
          "output_type": "execute_result",
          "data": {
            "text/plain": [
              "'ABCDEFGHJKLMNPRSTUVWXYZ1234567890'"
            ],
            "application/vnd.google.colaboratory.intrinsic+json": {
              "type": "string"
            }
          },
          "metadata": {},
          "execution_count": 3
        }
      ],
      "source": [
        "# создаем список символов, допустимых для использования в VIN-кодах автомобилей\n",
        "ALLOWED_CHARS = [chr(x) for x in range(ord('A'), ord('Z')+1) if chr(x) not in ('I', 'O', 'Q')]\n",
        "ALLOWED_NUMS = [str(x) for x in range(1,10)] + ['0']\n",
        "\n",
        "allowed = ''.join(ALLOWED_CHARS+ALLOWED_NUMS)\n",
        "allowed"
      ]
    },
    {
      "cell_type": "code",
      "execution_count": 4,
      "metadata": {
        "id": "5S3jO_dWf_vX"
      },
      "outputs": [],
      "source": [
        "# строим регулярные выражения для различных частей VIN-кода автомобиля, а также для цены\n",
        "WMI_RE = f'(?P<wmi>[{allowed}]{{3}})'\n",
        "RESTRAINT_RE = f'(?P<restraint>[{allowed}])'\n",
        "MODEL_RE = f'(?P<model>[{allowed}]{{3}})'\n",
        "ENGINE_RE = f'(?P<engine>[{allowed}])'\n",
        "CHECK_RE = f'(?P<check>[{allowed}])'\n",
        "YEAR_RE = f'(?P<year>[{allowed.replace(\"U\", \"\").replace(\"Z\", \"\")}])'\n",
        "PLANT_RE = f'(?P<plant>[{allowed}])'\n",
        "VIS_RE = f'(?P<vis>[{allowed}]{{3}}\\\\d{{3}})'"
      ]
    },
    {
      "cell_type": "code",
      "execution_count": 5,
      "metadata": {
        "id": "72LJWBkimuda"
      },
      "outputs": [],
      "source": [
        "VIN_RE = f'{WMI_RE}{RESTRAINT_RE}{MODEL_RE}{ENGINE_RE}{CHECK_RE}{YEAR_RE}{PLANT_RE}{VIS_RE}'\n",
        "PRICE_RE = r'(?P<price>\\d+)'"
      ]
    },
    {
      "cell_type": "code",
      "execution_count": 6,
      "metadata": {
        "colab": {
          "base_uri": "https://localhost:8080/",
          "height": 87
        },
        "id": "VqYcvo68oolE",
        "outputId": "ff416261-5bbb-45fc-b49d-047698176b4b"
      },
      "outputs": [
        {
          "output_type": "execute_result",
          "data": {
            "text/plain": [
              "'[2FMDK3JC4BBA41556:12500]мой[3FA6P0H75ER208976:14500]дядя [3FAHP08Z17R268380:1300][1FMCU0GX3DUC59421:15200]самых [1FAHP2E89DG119368:11600] верных[1FM5K8D82DGA16143:26400][1FTFW1CFXCFC23663:14000][2FMDK3JC6CBA90002:19500][1FTFW1CT8DKD06233:24400][1FMZU64W13UC28949:2900][2FMDK3JC9DBB30736:23500][1FMCU9D76CKC49193:12700][1FMCU9EG2CKA90624:20700][1FMCU0JX7EUA28208:21300][2FMGK5D85EBD31213:26700][2FMDK4KC6EBA72011:25100]правил [1FTFX1EF2EKE24350:26700][1ZVBP8EM0D5237253:11600][1FDNE1BW5BDA64735:13200'"
            ],
            "application/vnd.google.colaboratory.intrinsic+json": {
              "type": "string"
            }
          },
          "metadata": {},
          "execution_count": 6
        }
      ],
      "source": [
        "# Открытие файла и чтение содержимого\n",
        "file_path = '/content/drive/MyDrive/vin_ford_train.txt'\n",
        "with open(file_path, 'r') as file:\n",
        "    data = file.read()\n",
        "\n",
        "data[:500]"
      ]
    },
    {
      "cell_type": "code",
      "execution_count": 7,
      "metadata": {
        "colab": {
          "base_uri": "https://localhost:8080/"
        },
        "id": "XjLFhiv5vmg_",
        "outputId": "3dec6bf6-9490-4d90-b288-d5658a147f06"
      },
      "outputs": [
        {
          "output_type": "execute_result",
          "data": {
            "text/plain": [
              "re.compile(r'\\[(?P<wmi>[ABCDEFGHJKLMNPRSTUVWXYZ1234567890]{3})(?P<restraint>[ABCDEFGHJKLMNPRSTUVWXYZ1234567890])(?P<model>[ABCDEFGHJKLMNPRSTUVWXYZ1234567890]{3})(?P<engine>[ABCDEFGHJKLMNPRSTUVWXYZ1234567890])(?P<check>[ABCDEFGHJKLMNPRSTUVWXYZ1234567890])(?P<year>[ABCDEFGHJKLMNPRSTVWXY1234567890])(?P<plant>[ABCDEFGHJKLMNPRSTUVWXYZ1234567890])(?P<vis>[ABCDEFGHJKLMNPRSTUVWXYZ1234567890]{3}\\d{3}):(?P<price>\\d+)\\]',\n",
              "re.UNICODE)"
            ]
          },
          "metadata": {},
          "execution_count": 7
        }
      ],
      "source": [
        "# создаем регулярное выражение, которое используется для поиска VIN-кодов и соответствующих им цен в тексте\n",
        "data_re = re.compile(f'\\\\[{VIN_RE}:{PRICE_RE}\\\\]')\n",
        "data_re"
      ]
    },
    {
      "cell_type": "code",
      "execution_count": 8,
      "metadata": {
        "colab": {
          "base_uri": "https://localhost:8080/"
        },
        "id": "oqhZoflevmoO",
        "outputId": "094687f8-8e93-4fdd-a06a-6753bec72950"
      },
      "outputs": [
        {
          "output_type": "execute_result",
          "data": {
            "text/plain": [
              "[{'wmi': '2FM',\n",
              "  'restraint': 'D',\n",
              "  'model': 'K3J',\n",
              "  'engine': 'C',\n",
              "  'check': '4',\n",
              "  'year': 'B',\n",
              "  'plant': 'B',\n",
              "  'vis': 'A41556',\n",
              "  'price': '12500'}]"
            ]
          },
          "metadata": {},
          "execution_count": 8
        }
      ],
      "source": [
        "# просмотр структуры данных\n",
        "values = []\n",
        "for obj in data_re.finditer(data):\n",
        "  values.append(obj.groupdict())\n",
        "\n",
        "values[:1]"
      ]
    },
    {
      "cell_type": "code",
      "execution_count": 9,
      "metadata": {
        "colab": {
          "base_uri": "https://localhost:8080/"
        },
        "id": "GFpTqC70vnRY",
        "outputId": "7874e6d7-3beb-4537-b786-fc64aa6a18d4"
      },
      "outputs": [
        {
          "output_type": "execute_result",
          "data": {
            "text/plain": [
              "[{'invalid_data': '[1FM5K8D83DGB91002:XXXX]'},\n",
              " {'invalid_data': '[1FM5K8D83DGB9100X:26600]'}]"
            ]
          },
          "metadata": {},
          "execution_count": 9
        }
      ],
      "source": [
        "# поиск невалидных объектов\n",
        "valid_vin = r'(\\w{14}\\d{3})'\n",
        "valid_price = r'(\\d+)'\n",
        "\n",
        "invalid_vin = r'(?!\\w{14}\\d{3})(\\w+)'\n",
        "invalid_price = r'(?!\\d+)(\\w+)'\n",
        "\n",
        "invalid_variance = [\n",
        "    f'\\\\[{invalid_vin}:{invalid_price}\\\\]',\n",
        "    f'\\\\[{valid_vin}:{invalid_price}\\\\]',\n",
        "    f'\\\\[{invalid_vin}:{valid_price}\\\\]',\n",
        "]\n",
        "\n",
        "invalid_pattern = re.compile('(?P<invalid_data>' + '|'.join(invalid_variance) + ')')\n",
        "\n",
        "invalid_values = []\n",
        "\n",
        "for obj in invalid_pattern.finditer(data):\n",
        "    invalid_values.append(obj.groupdict())\n",
        "\n",
        "invalid_values"
      ]
    },
    {
      "cell_type": "markdown",
      "metadata": {
        "id": "Hb2YsakaTsg9"
      },
      "source": [
        "## Создание и изучение датафрейма"
      ]
    },
    {
      "cell_type": "code",
      "execution_count": 10,
      "metadata": {
        "colab": {
          "base_uri": "https://localhost:8080/"
        },
        "id": "WMNJZaLgFqR5",
        "outputId": "62e10bb9-4b0a-4102-bc65-8f92aadd1106"
      },
      "outputs": [
        {
          "output_type": "stream",
          "name": "stdout",
          "text": [
            "<class 'pandas.core.frame.DataFrame'>\n",
            "RangeIndex: 71884 entries, 0 to 71883\n",
            "Data columns (total 9 columns):\n",
            " #   Column     Non-Null Count  Dtype \n",
            "---  ------     --------------  ----- \n",
            " 0   wmi        71884 non-null  object\n",
            " 1   restraint  71884 non-null  object\n",
            " 2   model      71884 non-null  object\n",
            " 3   engine     71884 non-null  object\n",
            " 4   check      71884 non-null  object\n",
            " 5   year       71884 non-null  object\n",
            " 6   plant      71884 non-null  object\n",
            " 7   vis        71884 non-null  object\n",
            " 8   price      71884 non-null  object\n",
            "dtypes: object(9)\n",
            "memory usage: 4.9+ MB\n"
          ]
        }
      ],
      "source": [
        "df = pd.DataFrame(values)\n",
        "\n",
        "df.info()"
      ]
    },
    {
      "cell_type": "code",
      "execution_count": 11,
      "metadata": {
        "id": "MECbSy65d5g3"
      },
      "outputs": [],
      "source": [
        "# преобразуем цену в число\n",
        "df['price'] = df['price'].astype(int)"
      ]
    },
    {
      "cell_type": "code",
      "execution_count": 12,
      "metadata": {
        "colab": {
          "base_uri": "https://localhost:8080/",
          "height": 206
        },
        "id": "txIHL6ZsFqe_",
        "outputId": "10e37c30-3065-446d-905b-f1c500f639bb"
      },
      "outputs": [
        {
          "output_type": "execute_result",
          "data": {
            "text/plain": [
              "   wmi restraint model engine check year plant     vis  price\n",
              "0  2FM         D   K3J      C     4    B     B  A41556  12500\n",
              "1  3FA         6   P0H      7     5    E     R  208976  14500\n",
              "2  3FA         H   P08      Z     1    7     R  268380   1300\n",
              "3  1FM         C   U0G      X     3    D     U  C59421  15200\n",
              "4  1FA         H   P2E      8     9    D     G  119368  11600"
            ],
            "text/html": [
              "\n",
              "  <div id=\"df-598cd83e-038b-4e39-89f9-91243e810e53\" class=\"colab-df-container\">\n",
              "    <div>\n",
              "<style scoped>\n",
              "    .dataframe tbody tr th:only-of-type {\n",
              "        vertical-align: middle;\n",
              "    }\n",
              "\n",
              "    .dataframe tbody tr th {\n",
              "        vertical-align: top;\n",
              "    }\n",
              "\n",
              "    .dataframe thead th {\n",
              "        text-align: right;\n",
              "    }\n",
              "</style>\n",
              "<table border=\"1\" class=\"dataframe\">\n",
              "  <thead>\n",
              "    <tr style=\"text-align: right;\">\n",
              "      <th></th>\n",
              "      <th>wmi</th>\n",
              "      <th>restraint</th>\n",
              "      <th>model</th>\n",
              "      <th>engine</th>\n",
              "      <th>check</th>\n",
              "      <th>year</th>\n",
              "      <th>plant</th>\n",
              "      <th>vis</th>\n",
              "      <th>price</th>\n",
              "    </tr>\n",
              "  </thead>\n",
              "  <tbody>\n",
              "    <tr>\n",
              "      <th>0</th>\n",
              "      <td>2FM</td>\n",
              "      <td>D</td>\n",
              "      <td>K3J</td>\n",
              "      <td>C</td>\n",
              "      <td>4</td>\n",
              "      <td>B</td>\n",
              "      <td>B</td>\n",
              "      <td>A41556</td>\n",
              "      <td>12500</td>\n",
              "    </tr>\n",
              "    <tr>\n",
              "      <th>1</th>\n",
              "      <td>3FA</td>\n",
              "      <td>6</td>\n",
              "      <td>P0H</td>\n",
              "      <td>7</td>\n",
              "      <td>5</td>\n",
              "      <td>E</td>\n",
              "      <td>R</td>\n",
              "      <td>208976</td>\n",
              "      <td>14500</td>\n",
              "    </tr>\n",
              "    <tr>\n",
              "      <th>2</th>\n",
              "      <td>3FA</td>\n",
              "      <td>H</td>\n",
              "      <td>P08</td>\n",
              "      <td>Z</td>\n",
              "      <td>1</td>\n",
              "      <td>7</td>\n",
              "      <td>R</td>\n",
              "      <td>268380</td>\n",
              "      <td>1300</td>\n",
              "    </tr>\n",
              "    <tr>\n",
              "      <th>3</th>\n",
              "      <td>1FM</td>\n",
              "      <td>C</td>\n",
              "      <td>U0G</td>\n",
              "      <td>X</td>\n",
              "      <td>3</td>\n",
              "      <td>D</td>\n",
              "      <td>U</td>\n",
              "      <td>C59421</td>\n",
              "      <td>15200</td>\n",
              "    </tr>\n",
              "    <tr>\n",
              "      <th>4</th>\n",
              "      <td>1FA</td>\n",
              "      <td>H</td>\n",
              "      <td>P2E</td>\n",
              "      <td>8</td>\n",
              "      <td>9</td>\n",
              "      <td>D</td>\n",
              "      <td>G</td>\n",
              "      <td>119368</td>\n",
              "      <td>11600</td>\n",
              "    </tr>\n",
              "  </tbody>\n",
              "</table>\n",
              "</div>\n",
              "    <div class=\"colab-df-buttons\">\n",
              "\n",
              "  <div class=\"colab-df-container\">\n",
              "    <button class=\"colab-df-convert\" onclick=\"convertToInteractive('df-598cd83e-038b-4e39-89f9-91243e810e53')\"\n",
              "            title=\"Convert this dataframe to an interactive table.\"\n",
              "            style=\"display:none;\">\n",
              "\n",
              "  <svg xmlns=\"http://www.w3.org/2000/svg\" height=\"24px\" viewBox=\"0 -960 960 960\">\n",
              "    <path d=\"M120-120v-720h720v720H120Zm60-500h600v-160H180v160Zm220 220h160v-160H400v160Zm0 220h160v-160H400v160ZM180-400h160v-160H180v160Zm440 0h160v-160H620v160ZM180-180h160v-160H180v160Zm440 0h160v-160H620v160Z\"/>\n",
              "  </svg>\n",
              "    </button>\n",
              "\n",
              "  <style>\n",
              "    .colab-df-container {\n",
              "      display:flex;\n",
              "      gap: 12px;\n",
              "    }\n",
              "\n",
              "    .colab-df-convert {\n",
              "      background-color: #E8F0FE;\n",
              "      border: none;\n",
              "      border-radius: 50%;\n",
              "      cursor: pointer;\n",
              "      display: none;\n",
              "      fill: #1967D2;\n",
              "      height: 32px;\n",
              "      padding: 0 0 0 0;\n",
              "      width: 32px;\n",
              "    }\n",
              "\n",
              "    .colab-df-convert:hover {\n",
              "      background-color: #E2EBFA;\n",
              "      box-shadow: 0px 1px 2px rgba(60, 64, 67, 0.3), 0px 1px 3px 1px rgba(60, 64, 67, 0.15);\n",
              "      fill: #174EA6;\n",
              "    }\n",
              "\n",
              "    .colab-df-buttons div {\n",
              "      margin-bottom: 4px;\n",
              "    }\n",
              "\n",
              "    [theme=dark] .colab-df-convert {\n",
              "      background-color: #3B4455;\n",
              "      fill: #D2E3FC;\n",
              "    }\n",
              "\n",
              "    [theme=dark] .colab-df-convert:hover {\n",
              "      background-color: #434B5C;\n",
              "      box-shadow: 0px 1px 3px 1px rgba(0, 0, 0, 0.15);\n",
              "      filter: drop-shadow(0px 1px 2px rgba(0, 0, 0, 0.3));\n",
              "      fill: #FFFFFF;\n",
              "    }\n",
              "  </style>\n",
              "\n",
              "    <script>\n",
              "      const buttonEl =\n",
              "        document.querySelector('#df-598cd83e-038b-4e39-89f9-91243e810e53 button.colab-df-convert');\n",
              "      buttonEl.style.display =\n",
              "        google.colab.kernel.accessAllowed ? 'block' : 'none';\n",
              "\n",
              "      async function convertToInteractive(key) {\n",
              "        const element = document.querySelector('#df-598cd83e-038b-4e39-89f9-91243e810e53');\n",
              "        const dataTable =\n",
              "          await google.colab.kernel.invokeFunction('convertToInteractive',\n",
              "                                                    [key], {});\n",
              "        if (!dataTable) return;\n",
              "\n",
              "        const docLinkHtml = 'Like what you see? Visit the ' +\n",
              "          '<a target=\"_blank\" href=https://colab.research.google.com/notebooks/data_table.ipynb>data table notebook</a>'\n",
              "          + ' to learn more about interactive tables.';\n",
              "        element.innerHTML = '';\n",
              "        dataTable['output_type'] = 'display_data';\n",
              "        await google.colab.output.renderOutput(dataTable, element);\n",
              "        const docLink = document.createElement('div');\n",
              "        docLink.innerHTML = docLinkHtml;\n",
              "        element.appendChild(docLink);\n",
              "      }\n",
              "    </script>\n",
              "  </div>\n",
              "\n",
              "\n",
              "<div id=\"df-330f20cb-bf7d-4bc4-a913-cba340c09b89\">\n",
              "  <button class=\"colab-df-quickchart\" onclick=\"quickchart('df-330f20cb-bf7d-4bc4-a913-cba340c09b89')\"\n",
              "            title=\"Suggest charts\"\n",
              "            style=\"display:none;\">\n",
              "\n",
              "<svg xmlns=\"http://www.w3.org/2000/svg\" height=\"24px\"viewBox=\"0 0 24 24\"\n",
              "     width=\"24px\">\n",
              "    <g>\n",
              "        <path d=\"M19 3H5c-1.1 0-2 .9-2 2v14c0 1.1.9 2 2 2h14c1.1 0 2-.9 2-2V5c0-1.1-.9-2-2-2zM9 17H7v-7h2v7zm4 0h-2V7h2v10zm4 0h-2v-4h2v4z\"/>\n",
              "    </g>\n",
              "</svg>\n",
              "  </button>\n",
              "\n",
              "<style>\n",
              "  .colab-df-quickchart {\n",
              "      --bg-color: #E8F0FE;\n",
              "      --fill-color: #1967D2;\n",
              "      --hover-bg-color: #E2EBFA;\n",
              "      --hover-fill-color: #174EA6;\n",
              "      --disabled-fill-color: #AAA;\n",
              "      --disabled-bg-color: #DDD;\n",
              "  }\n",
              "\n",
              "  [theme=dark] .colab-df-quickchart {\n",
              "      --bg-color: #3B4455;\n",
              "      --fill-color: #D2E3FC;\n",
              "      --hover-bg-color: #434B5C;\n",
              "      --hover-fill-color: #FFFFFF;\n",
              "      --disabled-bg-color: #3B4455;\n",
              "      --disabled-fill-color: #666;\n",
              "  }\n",
              "\n",
              "  .colab-df-quickchart {\n",
              "    background-color: var(--bg-color);\n",
              "    border: none;\n",
              "    border-radius: 50%;\n",
              "    cursor: pointer;\n",
              "    display: none;\n",
              "    fill: var(--fill-color);\n",
              "    height: 32px;\n",
              "    padding: 0;\n",
              "    width: 32px;\n",
              "  }\n",
              "\n",
              "  .colab-df-quickchart:hover {\n",
              "    background-color: var(--hover-bg-color);\n",
              "    box-shadow: 0 1px 2px rgba(60, 64, 67, 0.3), 0 1px 3px 1px rgba(60, 64, 67, 0.15);\n",
              "    fill: var(--button-hover-fill-color);\n",
              "  }\n",
              "\n",
              "  .colab-df-quickchart-complete:disabled,\n",
              "  .colab-df-quickchart-complete:disabled:hover {\n",
              "    background-color: var(--disabled-bg-color);\n",
              "    fill: var(--disabled-fill-color);\n",
              "    box-shadow: none;\n",
              "  }\n",
              "\n",
              "  .colab-df-spinner {\n",
              "    border: 2px solid var(--fill-color);\n",
              "    border-color: transparent;\n",
              "    border-bottom-color: var(--fill-color);\n",
              "    animation:\n",
              "      spin 1s steps(1) infinite;\n",
              "  }\n",
              "\n",
              "  @keyframes spin {\n",
              "    0% {\n",
              "      border-color: transparent;\n",
              "      border-bottom-color: var(--fill-color);\n",
              "      border-left-color: var(--fill-color);\n",
              "    }\n",
              "    20% {\n",
              "      border-color: transparent;\n",
              "      border-left-color: var(--fill-color);\n",
              "      border-top-color: var(--fill-color);\n",
              "    }\n",
              "    30% {\n",
              "      border-color: transparent;\n",
              "      border-left-color: var(--fill-color);\n",
              "      border-top-color: var(--fill-color);\n",
              "      border-right-color: var(--fill-color);\n",
              "    }\n",
              "    40% {\n",
              "      border-color: transparent;\n",
              "      border-right-color: var(--fill-color);\n",
              "      border-top-color: var(--fill-color);\n",
              "    }\n",
              "    60% {\n",
              "      border-color: transparent;\n",
              "      border-right-color: var(--fill-color);\n",
              "    }\n",
              "    80% {\n",
              "      border-color: transparent;\n",
              "      border-right-color: var(--fill-color);\n",
              "      border-bottom-color: var(--fill-color);\n",
              "    }\n",
              "    90% {\n",
              "      border-color: transparent;\n",
              "      border-bottom-color: var(--fill-color);\n",
              "    }\n",
              "  }\n",
              "</style>\n",
              "\n",
              "  <script>\n",
              "    async function quickchart(key) {\n",
              "      const quickchartButtonEl =\n",
              "        document.querySelector('#' + key + ' button');\n",
              "      quickchartButtonEl.disabled = true;  // To prevent multiple clicks.\n",
              "      quickchartButtonEl.classList.add('colab-df-spinner');\n",
              "      try {\n",
              "        const charts = await google.colab.kernel.invokeFunction(\n",
              "            'suggestCharts', [key], {});\n",
              "      } catch (error) {\n",
              "        console.error('Error during call to suggestCharts:', error);\n",
              "      }\n",
              "      quickchartButtonEl.classList.remove('colab-df-spinner');\n",
              "      quickchartButtonEl.classList.add('colab-df-quickchart-complete');\n",
              "    }\n",
              "    (() => {\n",
              "      let quickchartButtonEl =\n",
              "        document.querySelector('#df-330f20cb-bf7d-4bc4-a913-cba340c09b89 button');\n",
              "      quickchartButtonEl.style.display =\n",
              "        google.colab.kernel.accessAllowed ? 'block' : 'none';\n",
              "    })();\n",
              "  </script>\n",
              "</div>\n",
              "\n",
              "    </div>\n",
              "  </div>\n"
            ],
            "application/vnd.google.colaboratory.intrinsic+json": {
              "type": "dataframe",
              "variable_name": "df",
              "summary": "{\n  \"name\": \"df\",\n  \"rows\": 71884,\n  \"fields\": [\n    {\n      \"column\": \"wmi\",\n      \"properties\": {\n        \"dtype\": \"category\",\n        \"num_unique_values\": 14,\n        \"samples\": [\n          \"1FB\",\n          \"4F4\",\n          \"2FM\"\n        ],\n        \"semantic_type\": \"\",\n        \"description\": \"\"\n      }\n    },\n    {\n      \"column\": \"restraint\",\n      \"properties\": {\n        \"dtype\": \"category\",\n        \"num_unique_values\": 26,\n        \"samples\": [\n          \"B\",\n          \"K\",\n          \"D\"\n        ],\n        \"semantic_type\": \"\",\n        \"description\": \"\"\n      }\n    },\n    {\n      \"column\": \"model\",\n      \"properties\": {\n        \"dtype\": \"category\",\n        \"num_unique_values\": 365,\n        \"samples\": [\n          \"P0P\",\n          \"K3G\",\n          \"E1B\"\n        ],\n        \"semantic_type\": \"\",\n        \"description\": \"\"\n      }\n    },\n    {\n      \"column\": \"engine\",\n      \"properties\": {\n        \"dtype\": \"category\",\n        \"num_unique_values\": 32,\n        \"samples\": [\n          \"S\",\n          \"2\",\n          \"K\"\n        ],\n        \"semantic_type\": \"\",\n        \"description\": \"\"\n      }\n    },\n    {\n      \"column\": \"check\",\n      \"properties\": {\n        \"dtype\": \"category\",\n        \"num_unique_values\": 11,\n        \"samples\": [\n          \"2\",\n          \"4\",\n          \"7\"\n        ],\n        \"semantic_type\": \"\",\n        \"description\": \"\"\n      }\n    },\n    {\n      \"column\": \"year\",\n      \"properties\": {\n        \"dtype\": \"category\",\n        \"num_unique_values\": 25,\n        \"samples\": [\n          \"4\",\n          \"W\",\n          \"B\"\n        ],\n        \"semantic_type\": \"\",\n        \"description\": \"\"\n      }\n    },\n    {\n      \"column\": \"plant\",\n      \"properties\": {\n        \"dtype\": \"category\",\n        \"num_unique_values\": 21,\n        \"samples\": [\n          \"B\",\n          \"Z\",\n          \"X\"\n        ],\n        \"semantic_type\": \"\",\n        \"description\": \"\"\n      }\n    },\n    {\n      \"column\": \"vis\",\n      \"properties\": {\n        \"dtype\": \"string\",\n        \"num_unique_values\": 68215,\n        \"samples\": [\n          \"B80431\",\n          \"D07130\",\n          \"D64459\"\n        ],\n        \"semantic_type\": \"\",\n        \"description\": \"\"\n      }\n    },\n    {\n      \"column\": \"price\",\n      \"properties\": {\n        \"dtype\": \"number\",\n        \"std\": 7827,\n        \"min\": 1000,\n        \"max\": 36500,\n        \"num_unique_values\": 643,\n        \"samples\": [\n          13301,\n          27100,\n          28750\n        ],\n        \"semantic_type\": \"\",\n        \"description\": \"\"\n      }\n    }\n  ]\n}"
            }
          },
          "metadata": {},
          "execution_count": 12
        }
      ],
      "source": [
        "df.head()"
      ]
    },
    {
      "cell_type": "code",
      "execution_count": 13,
      "metadata": {
        "colab": {
          "base_uri": "https://localhost:8080/"
        },
        "id": "v9lo1nq3FrV5",
        "outputId": "a5183e8a-acff-435e-ac7f-51b3a27097f8"
      },
      "outputs": [
        {
          "output_type": "stream",
          "name": "stdout",
          "text": [
            "Дубликаты в DataFrame: 0\n"
          ]
        }
      ],
      "source": [
        "# Проверяем наличие дубликатов в DataFrame\n",
        "print(\"Дубликаты в DataFrame:\", df.duplicated().sum())"
      ]
    },
    {
      "cell_type": "code",
      "execution_count": 14,
      "metadata": {
        "colab": {
          "base_uri": "https://localhost:8080/",
          "height": 564
        },
        "id": "hoMZJpHsFrjm",
        "outputId": "7fbacffd-b826-4b2a-efc3-4e3aca5846c1"
      },
      "outputs": [
        {
          "output_type": "display_data",
          "data": {
            "text/plain": [
              "<Figure size 1000x600 with 1 Axes>"
            ],
            "image/png": "[encoded data removed]"
          },
          "metadata": {}
        }
      ],
      "source": [
        "# Построение гистограммы с заданными параметрами\n",
        "plt.figure(figsize=(10, 6))\n",
        "df.price.hist(bins=20, color='salmon', edgecolor='black', alpha=0.7)\n",
        "plt.title('Распределение цен автомобилей')\n",
        "plt.xlabel('Цена')\n",
        "plt.ylabel('Частота')\n",
        "plt.grid(True)\n",
        "plt.show()"
      ]
    },
    {
      "cell_type": "markdown",
      "metadata": {
        "id": "3MBu0zMOXHkL"
      },
      "source": [
        "Из графика можно сделать вывод, что большинство автомобилей имеет цену от 7000 до 20000. В целом распределение выглядит нормальным, без резких аномалий"
      ]
    },
    {
      "cell_type": "markdown",
      "metadata": {
        "id": "cF3YaU6GeIbH"
      },
      "source": [
        "## Подготовка к обучению"
      ]
    },
    {
      "cell_type": "code",
      "source": [
        "features = df.drop(['price'], axis=1)\n",
        "target = df['price']\n"
      ],
      "metadata": {
        "id": "Jqk5ZXToumWV"
      },
      "execution_count": 15,
      "outputs": []
    },
    {
      "cell_type": "code",
      "source": [
        "features_train, features_test, target_train, target_test = train_test_split(\n",
        "    features, target, test_size=0.25, random_state=42)\n",
        "\n",
        "print(features_train.shape)\n",
        "print(features_test.shape)\n",
        "print(target_train.shape)\n",
        "print(target_test.shape)"
      ],
      "metadata": {
        "colab": {
          "base_uri": "https://localhost:8080/"
        },
        "id": "9jxTx9AhuXJ7",
        "outputId": "c68df3ed-ee40-4eef-a9d7-c3b07ff07c2c"
      },
      "execution_count": 16,
      "outputs": [
        {
          "output_type": "stream",
          "name": "stdout",
          "text": [
            "(53913, 8)\n",
            "(17971, 8)\n",
            "(53913,)\n",
            "(17971,)\n"
          ]
        }
      ]
    },
    {
      "cell_type": "code",
      "source": [
        "# Кодирование категориальных признаков OrdinalEncoder\n",
        "\n",
        "categorical_features = ['wmi', 'restraint', 'model', 'engine', 'check', 'year', 'plant', 'vis']\n",
        "\n",
        "# Создание кодировщика\n",
        "encoder = ce.OrdinalEncoder(cols=categorical_features)\n",
        "\n",
        "# Применение кодировщика к обучающим и тестовым данным\n",
        "features_train_encoded = encoder.fit_transform(features_train[categorical_features])\n",
        "features_test_encoded = encoder.transform(features_test[categorical_features])\n",
        "\n",
        "# Вывод первых строк закодированных данных\n",
        "print(features_train_encoded.head())\n",
        "print(features_test_encoded.head())"
      ],
      "metadata": {
        "colab": {
          "base_uri": "https://localhost:8080/"
        },
        "id": "BH6pFML9CPT3",
        "outputId": "4da57e95-6ba5-4b6e-a01c-b848a59e6142"
      },
      "execution_count": 17,
      "outputs": [
        {
          "output_type": "stream",
          "name": "stdout",
          "text": [
            "       wmi  restraint  model  engine  check  year  plant  vis\n",
            "25893    1          1      1       1      1     1      1    1\n",
            "65422    2          2      2       2      2     2      2    2\n",
            "41499    3          3      3       3      2     3      3    3\n",
            "2148     3          4      4       4      3     4      4    4\n",
            "6583     3          4      4       5      2     5      4    5\n",
            "       wmi  restraint  model  engine  check  year  plant  vis\n",
            "19770    6          7   60.0      20     10   1.0     13 -1.0\n",
            "57555    6         14   53.0       8      3   3.0     13 -1.0\n",
            "62950    4          2  164.0      26      2   2.0      5 -1.0\n",
            "38093    3          7   52.0       8      9  15.0     12 -1.0\n",
            "69373    3          3  128.0       3      2   3.0      3 -1.0\n"
          ]
        }
      ]
    },
    {
      "cell_type": "markdown",
      "source": [
        "## Обучение и проверка модели"
      ],
      "metadata": {
        "id": "ZCrIiYEQ7wEm"
      }
    },
    {
      "cell_type": "code",
      "source": [
        "# Пример модели случайного леса\n",
        "\n",
        "model_forest = RandomForestRegressor(random_state=42)\n",
        "parameter = {'max_depth':range(10, 50, 10),\n",
        "              'n_estimators': range(2,10,2)}\n",
        "\n",
        "gs_forest = GridSearchCV(model_forest, parameter, cv=3, scoring='neg_root_mean_squared_error', n_jobs=1, verbose=1)\n",
        "\n",
        "gs_forest.fit(features_train_encoded, target_train)\n",
        "\n",
        "# Оценка производительности модели случайного леса на тестовом наборе данных\n",
        "score_rf = gs_forest.score(features_test_encoded, target_test)\n",
        "print(\"Средняя квадратичная ошибка модели случайного леса на тестовом наборе данных:\", abs(score_rf))"
      ],
      "metadata": {
        "colab": {
          "base_uri": "https://localhost:8080/"
        },
        "id": "LvslXzdvIlEV",
        "outputId": "32c93de3-658e-4a3e-ad67-61d9916d67b6"
      },
      "execution_count": 18,
      "outputs": [
        {
          "output_type": "stream",
          "name": "stdout",
          "text": [
            "Fitting 3 folds for each of 16 candidates, totalling 48 fits\n",
            "Средняя квадратичная ошибка модели случайного леса на тестовом наборе данных: 3346.646172165786\n"
          ]
        }
      ]
    },
    {
      "cell_type": "code",
      "source": [
        "# Создание дамми модели\n",
        "dummy_model = DummyRegressor(strategy=\"mean\")\n",
        "\n",
        "# Обучение дамми модели\n",
        "dummy_model.fit(features_train_encoded, target_train)\n",
        "\n",
        "# Предсказание с помощью дамми модели\n",
        "y_pred_dummy = dummy_model.predict(features_test_encoded)\n",
        "\n",
        "# Оценка производительности дамми модели\n",
        "dummy_mse = mean_squared_error(target_test, y_pred_dummy)\n",
        "print(\"Средняя квадратичная ошибка дамми модели:\", dummy_mse**0.5)"
      ],
      "metadata": {
        "colab": {
          "base_uri": "https://localhost:8080/"
        },
        "id": "LpQeEaiDIkjV",
        "outputId": "974d2c90-f5a4-4050-f5f6-3c126ad46c26"
      },
      "execution_count": 19,
      "outputs": [
        {
          "output_type": "stream",
          "name": "stdout",
          "text": [
            "Средняя квадратичная ошибка дамми модели: 7839.305589736664\n"
          ]
        }
      ]
    },
    {
      "cell_type": "markdown",
      "source": [
        "Модель случайного леса ошибается гораздо меньше, чем дамми-модель, значит модель хорошая"
      ],
      "metadata": {
        "id": "M9DxQkvWmAr4"
      }
    },
    {
      "cell_type": "markdown",
      "source": [
        "## Важность признаков и корреляция"
      ],
      "metadata": {
        "id": "UAp_3nnN73lG"
      }
    },
    {
      "cell_type": "code",
      "execution_count": 20,
      "metadata": {
        "id": "5ggXnc4ctjM6",
        "colab": {
          "base_uri": "https://localhost:8080/",
          "height": 513
        },
        "outputId": "86d5508c-741b-4bc8-b274-6acac6dab1ea"
      },
      "outputs": [
        {
          "output_type": "display_data",
          "data": {
            "text/plain": [
              "<Figure size 1500x500 with 1 Axes>"
            ],
            "image/png": "[encoded data removed]"
          },
          "metadata": {}
        }
      ],
      "source": [
        "# рассмотрим важность признаков при обучении модели случайного леса\n",
        "importances = pd.DataFrame(gs_forest.best_estimator_.feature_importances_,\n",
        "                           index = features_test_encoded.columns, columns=['importances'])\n",
        "importances = importances.sort_values(by='importances', ascending=False)\n",
        "importances\n",
        "\n",
        "importances.plot(kind='bar', figsize=(15, 5), title='Важность признаков')\n",
        "plt.show();"
      ]
    },
    {
      "cell_type": "markdown",
      "source": [
        "Признаками, которые наиболее влияют на цену, являются двигатель, год производства и производитель. Контрольный знак - check, влияет меньше всего"
      ],
      "metadata": {
        "id": "m5TwJxuMOQyi"
      }
    },
    {
      "cell_type": "code",
      "execution_count": 21,
      "metadata": {
        "id": "D5dz_zLwtjVm",
        "colab": {
          "base_uri": "https://localhost:8080/",
          "height": 699
        },
        "outputId": "c597be66-138b-47e7-c309-5c553f7f77f1"
      },
      "outputs": [
        {
          "output_type": "display_data",
          "data": {
            "text/plain": [
              "<Figure size 1200x800 with 2 Axes>"
            ],
            "image/png": "[encoded data removed]"
          },
          "metadata": {}
        }
      ],
      "source": [
        "# Вычисление матрицы корреляции\n",
        "correlation_matrix = features_test_encoded.corr()\n",
        "\n",
        "# Построение тепловой карты корреляции\n",
        "plt.figure(figsize=(12, 8))\n",
        "sns.heatmap(correlation_matrix, annot=True, cmap='coolwarm', fmt=\".2f\")\n",
        "plt.title('Тепловая карта корреляции признаков')\n",
        "plt.show()"
      ]
    },
    {
      "cell_type": "markdown",
      "source": [
        "Самая высокая корреляция обнаружена у признаков - производитель и завод изготовитель. Возможно, если убрать признак plant, модель будель показывать еще более лучший результат, но это требует дополнительного исследования и в рамках данного проекта, такой задачи не стоит"
      ],
      "metadata": {
        "id": "6UcQ5xErQ4Ly"
      }
    },
    {
      "cell_type": "markdown",
      "source": [
        "## Применение"
      ],
      "metadata": {
        "id": "ahQPyNjY8AmZ"
      }
    },
    {
      "cell_type": "code",
      "source": [
        "# функция предсказания цены\n",
        "def predict_prices(vin_codes):\n",
        "    # Создаем список для хранения предсказанных цен\n",
        "    predicted_prices = []\n",
        "\n",
        "    # Проходимся по каждому VIN коду в списке\n",
        "    for vin_code in vin_codes:\n",
        "        # Разбиваем VIN код на соответствующие части\n",
        "        wmi = vin_code[:3]\n",
        "        restraint = vin_code[3]\n",
        "        model = vin_code[4:7]\n",
        "        engine = vin_code[7]\n",
        "        check = vin_code[8]\n",
        "        year = vin_code[9]\n",
        "        plant = vin_code[10]\n",
        "        vis = vin_code[11:]\n",
        "\n",
        "        # Преобразуем части VIN кода в признаки\n",
        "        vin_data = pd.DataFrame([{'wmi': wmi, 'restraint': restraint, 'model': model, 'engine': engine, 'check': check, 'year': year, 'plant': plant, 'vis': vis}])\n",
        "        features_encoded = encoder.transform(vin_data)\n",
        "\n",
        "        # Предсказание цены с использованием модели и добавление в список\n",
        "        predicted_price = gs_forest.predict(features_encoded)\n",
        "        predicted_prices.append(predicted_price[0])\n",
        "\n",
        "    # Создаем DataFrame с результатами\n",
        "    result_df = pd.DataFrame({'VIN Code': vin_codes, 'Predicted Price': predicted_prices})\n",
        "\n",
        "    return result_df\n"
      ],
      "metadata": {
        "id": "ij9G_iMf0sVW"
      },
      "execution_count": 22,
      "outputs": []
    },
    {
      "cell_type": "code",
      "source": [
        "# Пример использования функции для предсказания стоимости автомобилей по списку VIN кодов\n",
        "vin_codes = ['1FMCU9EG2CKA90624', '2FMDK4KC6EBA72011', '1FTFW1CFXCFC23663', '1FAHP2E89DG119368']\n",
        "predicted_prices_df = predict_prices(vin_codes)\n",
        "print(predicted_prices_df)"
      ],
      "metadata": {
        "colab": {
          "base_uri": "https://localhost:8080/"
        },
        "id": "gRBpN4h31mFw",
        "outputId": "dee0fdc2-efae-4b89-fa52-72f92b63636d"
      },
      "execution_count": 23,
      "outputs": [
        {
          "output_type": "stream",
          "name": "stdout",
          "text": [
            "            VIN Code  Predicted Price\n",
            "0  1FMCU9EG2CKA90624     19452.571469\n",
            "1  2FMDK4KC6EBA72011     26375.243056\n",
            "2  1FTFW1CFXCFC23663     27098.822832\n",
            "3  1FAHP2E89DG119368     11237.500000\n"
          ]
        }
      ]
    },
    {
      "cell_type": "markdown",
      "source": [
        "## Вывод"
      ],
      "metadata": {
        "id": "GpRr-B5e8Van"
      }
    },
    {
      "cell_type": "markdown",
      "source": [
        "В ходе работы над проектом:\n",
        "* были изучили примеры данных, включая VIN-коды и цены автомобилей.\n",
        "* был использован метод кодирования категориальных признаков для подготовки данных перед обучением модели. Это позволило использовать эти признаки в моделировании.\n",
        "* была применена модель случайного леса для предсказания цен автомобилей на основе признаков, извлеченных из VIN-кодов. Был использован метод перекрестной проверки для выбора оптимальных параметров модели.\n",
        "* была создана функцию, которая принимает VIN-код(ы) в качестве входных данных и возвращает предсказанную цену автомобиля.\n",
        "\n",
        "Полученную модель можно улучшить, добавив больше данных или использовав другие методы машинного обучения. Также можно дополнительно извлечь признаки из VIN-кодов для улучшения точности предсказаний.\n",
        "\n",
        "Результат работы: была создана работающая модель для предсказания цен автомобилей на основе их VIN-кодов, что может быть полезным для автомобильной индустрии и потребителей."
      ],
      "metadata": {
        "id": "VJxJC_bW8avr"
      }
    }
  ],
  "metadata": {
    "colab": {
      "provenance": []
    },
    "kernelspec": {
      "display_name": "Python 3",
      "name": "python3"
    },
    "language_info": {
      "name": "python"
    }
  },
  "nbformat": 4,
  "nbformat_minor": 0
}